{
 "cells": [
  {
   "cell_type": "code",
   "execution_count": 1,
   "id": "5ae6dc6c",
   "metadata": {},
   "outputs": [],
   "source": [
    "import pandas as pd\n",
    "import numpy as np\n",
    "import matplotlib.pyplot as plt"
   ]
  },
  {
   "cell_type": "code",
   "execution_count": 3,
   "id": "101af7f8",
   "metadata": {},
   "outputs": [],
   "source": [
    "url=\"data_sample copy.csv\" \n",
    "data=pd.read_csv(url)"
   ]
  },
  {
   "cell_type": "code",
   "execution_count": 4,
   "id": "1705f714",
   "metadata": {},
   "outputs": [
    {
     "data": {
      "text/html": [
       "<div>\n",
       "<style scoped>\n",
       "    .dataframe tbody tr th:only-of-type {\n",
       "        vertical-align: middle;\n",
       "    }\n",
       "\n",
       "    .dataframe tbody tr th {\n",
       "        vertical-align: top;\n",
       "    }\n",
       "\n",
       "    .dataframe thead th {\n",
       "        text-align: right;\n",
       "    }\n",
       "</style>\n",
       "<table border=\"1\" class=\"dataframe\">\n",
       "  <thead>\n",
       "    <tr style=\"text-align: right;\">\n",
       "      <th></th>\n",
       "      <th>sign_type</th>\n",
       "      <th>speed_limi</th>\n",
       "      <th>timestamp</th>\n",
       "      <th>Lon</th>\n",
       "      <th>Lat</th>\n",
       "    </tr>\n",
       "  </thead>\n",
       "  <tbody>\n",
       "    <tr>\n",
       "      <th>0</th>\n",
       "      <td>Stop</td>\n",
       "      <td>0</td>\n",
       "      <td>25.08.2020 07:50</td>\n",
       "      <td>19.425918</td>\n",
       "      <td>51.806640</td>\n",
       "    </tr>\n",
       "    <tr>\n",
       "      <th>1</th>\n",
       "      <td>Stop</td>\n",
       "      <td>0</td>\n",
       "      <td>27.08.2020 21:55</td>\n",
       "      <td>19.589880</td>\n",
       "      <td>51.793748</td>\n",
       "    </tr>\n",
       "    <tr>\n",
       "      <th>2</th>\n",
       "      <td>Stop</td>\n",
       "      <td>0</td>\n",
       "      <td>01.08.2020 18:20</td>\n",
       "      <td>19.543983</td>\n",
       "      <td>51.711465</td>\n",
       "    </tr>\n",
       "    <tr>\n",
       "      <th>3</th>\n",
       "      <td>Stop</td>\n",
       "      <td>0</td>\n",
       "      <td>12.08.2020 07:50</td>\n",
       "      <td>19.480426</td>\n",
       "      <td>51.727488</td>\n",
       "    </tr>\n",
       "    <tr>\n",
       "      <th>4</th>\n",
       "      <td>Stop</td>\n",
       "      <td>0</td>\n",
       "      <td>05.08.2020 14:50</td>\n",
       "      <td>19.448819</td>\n",
       "      <td>51.758253</td>\n",
       "    </tr>\n",
       "    <tr>\n",
       "      <th>...</th>\n",
       "      <td>...</td>\n",
       "      <td>...</td>\n",
       "      <td>...</td>\n",
       "      <td>...</td>\n",
       "      <td>...</td>\n",
       "    </tr>\n",
       "    <tr>\n",
       "      <th>244509</th>\n",
       "      <td>Speed Limit</td>\n",
       "      <td>85</td>\n",
       "      <td>22.08.2020 13:55</td>\n",
       "      <td>19.445755</td>\n",
       "      <td>51.782282</td>\n",
       "    </tr>\n",
       "    <tr>\n",
       "      <th>244510</th>\n",
       "      <td>Speed Limit</td>\n",
       "      <td>85</td>\n",
       "      <td>07.08.2020 20:40</td>\n",
       "      <td>19.450990</td>\n",
       "      <td>51.789896</td>\n",
       "    </tr>\n",
       "    <tr>\n",
       "      <th>244511</th>\n",
       "      <td>Speed Limit</td>\n",
       "      <td>85</td>\n",
       "      <td>30.08.2020 19:35</td>\n",
       "      <td>19.447302</td>\n",
       "      <td>51.756703</td>\n",
       "    </tr>\n",
       "    <tr>\n",
       "      <th>244512</th>\n",
       "      <td>Speed Limit</td>\n",
       "      <td>85</td>\n",
       "      <td>01.08.2020 13:30</td>\n",
       "      <td>19.495367</td>\n",
       "      <td>51.805601</td>\n",
       "    </tr>\n",
       "    <tr>\n",
       "      <th>244513</th>\n",
       "      <td>Speed Limit</td>\n",
       "      <td>85</td>\n",
       "      <td>04.08.2020 18:35</td>\n",
       "      <td>19.494891</td>\n",
       "      <td>51.796440</td>\n",
       "    </tr>\n",
       "  </tbody>\n",
       "</table>\n",
       "<p>244514 rows × 5 columns</p>\n",
       "</div>"
      ],
      "text/plain": [
       "          sign_type  speed_limi         timestamp        Lon        Lat\n",
       "0              Stop           0  25.08.2020 07:50  19.425918  51.806640\n",
       "1              Stop           0  27.08.2020 21:55  19.589880  51.793748\n",
       "2              Stop           0  01.08.2020 18:20  19.543983  51.711465\n",
       "3              Stop           0  12.08.2020 07:50  19.480426  51.727488\n",
       "4              Stop           0  05.08.2020 14:50  19.448819  51.758253\n",
       "...             ...         ...               ...        ...        ...\n",
       "244509  Speed Limit          85  22.08.2020 13:55  19.445755  51.782282\n",
       "244510  Speed Limit          85  07.08.2020 20:40  19.450990  51.789896\n",
       "244511  Speed Limit          85  30.08.2020 19:35  19.447302  51.756703\n",
       "244512  Speed Limit          85  01.08.2020 13:30  19.495367  51.805601\n",
       "244513  Speed Limit          85  04.08.2020 18:35  19.494891  51.796440\n",
       "\n",
       "[244514 rows x 5 columns]"
      ]
     },
     "execution_count": 4,
     "metadata": {},
     "output_type": "execute_result"
    }
   ],
   "source": [
    "data"
   ]
  },
  {
   "cell_type": "code",
   "execution_count": 5,
   "id": "15cf499e",
   "metadata": {},
   "outputs": [],
   "source": [
    "data['timestamp'] = pd.to_datetime(data['timestamp']) #we are changing dtype to datetime64"
   ]
  },
  {
   "cell_type": "code",
   "execution_count": 6,
   "id": "6c9741a5",
   "metadata": {},
   "outputs": [
    {
     "data": {
      "text/plain": [
       "(244514, 5)"
      ]
     },
     "execution_count": 6,
     "metadata": {},
     "output_type": "execute_result"
    }
   ],
   "source": [
    "#number of observations:\n",
    "data.shape"
   ]
  },
  {
   "cell_type": "code",
   "execution_count": 7,
   "id": "8bb86abd",
   "metadata": {},
   "outputs": [
    {
     "data": {
      "text/plain": [
       "244514"
      ]
     },
     "execution_count": 7,
     "metadata": {},
     "output_type": "execute_result"
    }
   ],
   "source": [
    "#row:\n",
    "data.shape[0]"
   ]
  },
  {
   "cell_type": "code",
   "execution_count": 8,
   "id": "2d654b2a",
   "metadata": {},
   "outputs": [
    {
     "data": {
      "text/plain": [
       "5"
      ]
     },
     "execution_count": 8,
     "metadata": {},
     "output_type": "execute_result"
    }
   ],
   "source": [
    "#columns:\n",
    "data.shape[1]"
   ]
  },
  {
   "cell_type": "code",
   "execution_count": 9,
   "id": "6a5c169e",
   "metadata": {},
   "outputs": [
    {
     "data": {
      "text/plain": [
       "RangeIndex(start=0, stop=244514, step=1)"
      ]
     },
     "execution_count": 9,
     "metadata": {},
     "output_type": "execute_result"
    }
   ],
   "source": [
    "#indexed :\n",
    "data.index"
   ]
  },
  {
   "cell_type": "code",
   "execution_count": 10,
   "id": "f7c4a163",
   "metadata": {},
   "outputs": [
    {
     "data": {
      "text/plain": [
       "sign_type             object\n",
       "speed_limi             int64\n",
       "timestamp     datetime64[ns]\n",
       "Lon                  float64\n",
       "Lat                  float64\n",
       "dtype: object"
      ]
     },
     "execution_count": 10,
     "metadata": {},
     "output_type": "execute_result"
    }
   ],
   "source": [
    "#datatypes :\n",
    "data.dtypes"
   ]
  },
  {
   "cell_type": "code",
   "execution_count": 11,
   "id": "01c548c1",
   "metadata": {},
   "outputs": [
    {
     "data": {
      "text/plain": [
       "count                           244514\n",
       "mean     2020-06-30 22:56:53.789803264\n",
       "min                2020-01-08 00:00:00\n",
       "25%                2020-04-08 18:55:00\n",
       "50%                2020-08-18 07:10:00\n",
       "75%                2020-08-26 23:20:00\n",
       "max                2020-12-08 23:55:00\n",
       "Name: timestamp, dtype: object"
      ]
     },
     "execution_count": 11,
     "metadata": {},
     "output_type": "execute_result"
    }
   ],
   "source": [
    "data.timestamp.describe(datetime_is_numeric=True) #analyzing timestamp"
   ]
  },
  {
   "cell_type": "code",
   "execution_count": 12,
   "id": "3c6718ab",
   "metadata": {},
   "outputs": [
    {
     "data": {
      "text/plain": [
       "5"
      ]
     },
     "execution_count": 12,
     "metadata": {},
     "output_type": "execute_result"
    }
   ],
   "source": [
    "#how many different sign_type have:\n",
    "data.sign_type.nunique()"
   ]
  },
  {
   "cell_type": "code",
   "execution_count": 13,
   "id": "6a6d59cb",
   "metadata": {},
   "outputs": [
    {
     "data": {
      "text/plain": [
       "Speed Limit               184611\n",
       "Yield                      52851\n",
       "Withdrawal Speed Limit      3998\n",
       "Stop                        3041\n",
       "No Entry                      13\n",
       "Name: sign_type, dtype: int64"
      ]
     },
     "execution_count": 13,
     "metadata": {},
     "output_type": "execute_result"
    }
   ],
   "source": [
    "data.sign_type.value_counts()"
   ]
  },
  {
   "cell_type": "code",
   "execution_count": 14,
   "id": "9545141a",
   "metadata": {},
   "outputs": [
    {
     "data": {
      "text/plain": [
       "Speed Limit    184611\n",
       "Name: sign_type, dtype: int64"
      ]
     },
     "execution_count": 14,
     "metadata": {},
     "output_type": "execute_result"
    }
   ],
   "source": [
    "#most frequent sign_type:\n",
    "data.sign_type.value_counts().head(1)"
   ]
  },
  {
   "cell_type": "code",
   "execution_count": 15,
   "id": "afaf34d1",
   "metadata": {},
   "outputs": [
    {
     "data": {
      "text/html": [
       "<div>\n",
       "<style scoped>\n",
       "    .dataframe tbody tr th:only-of-type {\n",
       "        vertical-align: middle;\n",
       "    }\n",
       "\n",
       "    .dataframe tbody tr th {\n",
       "        vertical-align: top;\n",
       "    }\n",
       "\n",
       "    .dataframe thead th {\n",
       "        text-align: right;\n",
       "    }\n",
       "</style>\n",
       "<table border=\"1\" class=\"dataframe\">\n",
       "  <thead>\n",
       "    <tr style=\"text-align: right;\">\n",
       "      <th></th>\n",
       "      <th>speed_limi</th>\n",
       "      <th>Lon</th>\n",
       "      <th>Lat</th>\n",
       "    </tr>\n",
       "  </thead>\n",
       "  <tbody>\n",
       "    <tr>\n",
       "      <th>count</th>\n",
       "      <td>244514.000000</td>\n",
       "      <td>244514.000000</td>\n",
       "      <td>244514.000000</td>\n",
       "    </tr>\n",
       "    <tr>\n",
       "      <th>mean</th>\n",
       "      <td>53.134872</td>\n",
       "      <td>19.487271</td>\n",
       "      <td>51.763045</td>\n",
       "    </tr>\n",
       "    <tr>\n",
       "      <th>std</th>\n",
       "      <td>38.940616</td>\n",
       "      <td>0.054160</td>\n",
       "      <td>0.030943</td>\n",
       "    </tr>\n",
       "    <tr>\n",
       "      <th>min</th>\n",
       "      <td>0.000000</td>\n",
       "      <td>19.418187</td>\n",
       "      <td>51.688998</td>\n",
       "    </tr>\n",
       "    <tr>\n",
       "      <th>25%</th>\n",
       "      <td>20.000000</td>\n",
       "      <td>19.442265</td>\n",
       "      <td>51.747177</td>\n",
       "    </tr>\n",
       "    <tr>\n",
       "      <th>50%</th>\n",
       "      <td>60.000000</td>\n",
       "      <td>19.479966</td>\n",
       "      <td>51.763835</td>\n",
       "    </tr>\n",
       "    <tr>\n",
       "      <th>75%</th>\n",
       "      <td>70.000000</td>\n",
       "      <td>19.506530</td>\n",
       "      <td>51.785088</td>\n",
       "    </tr>\n",
       "    <tr>\n",
       "      <th>max</th>\n",
       "      <td>130.000000</td>\n",
       "      <td>19.640141</td>\n",
       "      <td>51.818450</td>\n",
       "    </tr>\n",
       "  </tbody>\n",
       "</table>\n",
       "</div>"
      ],
      "text/plain": [
       "          speed_limi            Lon            Lat\n",
       "count  244514.000000  244514.000000  244514.000000\n",
       "mean       53.134872      19.487271      51.763045\n",
       "std        38.940616       0.054160       0.030943\n",
       "min         0.000000      19.418187      51.688998\n",
       "25%        20.000000      19.442265      51.747177\n",
       "50%        60.000000      19.479966      51.763835\n",
       "75%        70.000000      19.506530      51.785088\n",
       "max       130.000000      19.640141      51.818450"
      ]
     },
     "execution_count": 15,
     "metadata": {},
     "output_type": "execute_result"
    }
   ],
   "source": [
    "#summarize:\n",
    "data.describe()"
   ]
  },
  {
   "cell_type": "code",
   "execution_count": 16,
   "id": "c88e5aba",
   "metadata": {},
   "outputs": [
    {
     "data": {
      "text/plain": [
       "count    244514.000000\n",
       "mean         53.134872\n",
       "std          38.940616\n",
       "min           0.000000\n",
       "25%          20.000000\n",
       "50%          60.000000\n",
       "75%          70.000000\n",
       "max         130.000000\n",
       "Name: speed_limi, dtype: float64"
      ]
     },
     "execution_count": 16,
     "metadata": {},
     "output_type": "execute_result"
    }
   ],
   "source": [
    "data.speed_limi.describe()"
   ]
  },
  {
   "cell_type": "code",
   "execution_count": 17,
   "id": "51b72acc",
   "metadata": {},
   "outputs": [],
   "source": [
    "#rename the true name of columns:\n",
    "data.rename({'speed_limi':'speed_limit'},axis=1,inplace=True)"
   ]
  },
  {
   "cell_type": "code",
   "execution_count": 18,
   "id": "cd1e56ca",
   "metadata": {},
   "outputs": [
    {
     "data": {
      "text/html": [
       "<div>\n",
       "<style scoped>\n",
       "    .dataframe tbody tr th:only-of-type {\n",
       "        vertical-align: middle;\n",
       "    }\n",
       "\n",
       "    .dataframe tbody tr th {\n",
       "        vertical-align: top;\n",
       "    }\n",
       "\n",
       "    .dataframe thead th {\n",
       "        text-align: right;\n",
       "    }\n",
       "</style>\n",
       "<table border=\"1\" class=\"dataframe\">\n",
       "  <thead>\n",
       "    <tr style=\"text-align: right;\">\n",
       "      <th></th>\n",
       "      <th>sign_type</th>\n",
       "      <th>speed_limit</th>\n",
       "      <th>timestamp</th>\n",
       "      <th>Lon</th>\n",
       "      <th>Lat</th>\n",
       "    </tr>\n",
       "  </thead>\n",
       "  <tbody>\n",
       "    <tr>\n",
       "      <th>0</th>\n",
       "      <td>Stop</td>\n",
       "      <td>0</td>\n",
       "      <td>2020-08-25 07:50:00</td>\n",
       "      <td>19.425918</td>\n",
       "      <td>51.806640</td>\n",
       "    </tr>\n",
       "    <tr>\n",
       "      <th>1</th>\n",
       "      <td>Stop</td>\n",
       "      <td>0</td>\n",
       "      <td>2020-08-27 21:55:00</td>\n",
       "      <td>19.589880</td>\n",
       "      <td>51.793748</td>\n",
       "    </tr>\n",
       "    <tr>\n",
       "      <th>2</th>\n",
       "      <td>Stop</td>\n",
       "      <td>0</td>\n",
       "      <td>2020-01-08 18:20:00</td>\n",
       "      <td>19.543983</td>\n",
       "      <td>51.711465</td>\n",
       "    </tr>\n",
       "    <tr>\n",
       "      <th>3</th>\n",
       "      <td>Stop</td>\n",
       "      <td>0</td>\n",
       "      <td>2020-12-08 07:50:00</td>\n",
       "      <td>19.480426</td>\n",
       "      <td>51.727488</td>\n",
       "    </tr>\n",
       "    <tr>\n",
       "      <th>4</th>\n",
       "      <td>Stop</td>\n",
       "      <td>0</td>\n",
       "      <td>2020-05-08 14:50:00</td>\n",
       "      <td>19.448819</td>\n",
       "      <td>51.758253</td>\n",
       "    </tr>\n",
       "  </tbody>\n",
       "</table>\n",
       "</div>"
      ],
      "text/plain": [
       "  sign_type  speed_limit           timestamp        Lon        Lat\n",
       "0      Stop            0 2020-08-25 07:50:00  19.425918  51.806640\n",
       "1      Stop            0 2020-08-27 21:55:00  19.589880  51.793748\n",
       "2      Stop            0 2020-01-08 18:20:00  19.543983  51.711465\n",
       "3      Stop            0 2020-12-08 07:50:00  19.480426  51.727488\n",
       "4      Stop            0 2020-05-08 14:50:00  19.448819  51.758253"
      ]
     },
     "execution_count": 18,
     "metadata": {},
     "output_type": "execute_result"
    }
   ],
   "source": [
    "data.head()"
   ]
  },
  {
   "cell_type": "code",
   "execution_count": 19,
   "id": "e6b17b16",
   "metadata": {},
   "outputs": [
    {
     "name": "stdout",
     "output_type": "stream",
     "text": [
      "<class 'pandas.core.frame.DataFrame'>\n",
      "RangeIndex: 244514 entries, 0 to 244513\n",
      "Data columns (total 5 columns):\n",
      " #   Column       Non-Null Count   Dtype         \n",
      "---  ------       --------------   -----         \n",
      " 0   sign_type    244514 non-null  object        \n",
      " 1   speed_limit  244514 non-null  int64         \n",
      " 2   timestamp    244514 non-null  datetime64[ns]\n",
      " 3   Lon          244514 non-null  float64       \n",
      " 4   Lat          244514 non-null  float64       \n",
      "dtypes: datetime64[ns](1), float64(2), int64(1), object(1)\n",
      "memory usage: 9.3+ MB\n"
     ]
    }
   ],
   "source": [
    "data.info() #we dont have any NaN value!"
   ]
  },
  {
   "cell_type": "code",
   "execution_count": 20,
   "id": "06eeb1b8",
   "metadata": {},
   "outputs": [
    {
     "data": {
      "text/plain": [
       "sign_type      0\n",
       "speed_limit    0\n",
       "timestamp      0\n",
       "Lon            0\n",
       "Lat            0\n",
       "dtype: int64"
      ]
     },
     "execution_count": 20,
     "metadata": {},
     "output_type": "execute_result"
    }
   ],
   "source": [
    "data.isna().sum() #we are sure we dont have any NaN value"
   ]
  },
  {
   "cell_type": "code",
   "execution_count": 21,
   "id": "5ea0a543",
   "metadata": {},
   "outputs": [
    {
     "data": {
      "text/plain": [
       "130    26\n",
       "25     19\n",
       "35      3\n",
       "45      3\n",
       "65      2\n",
       "Name: speed_limit, dtype: int64"
      ]
     },
     "execution_count": 21,
     "metadata": {},
     "output_type": "execute_result"
    }
   ],
   "source": [
    "#least speed limit we see:\n",
    "data.speed_limit.value_counts().tail()"
   ]
  },
  {
   "cell_type": "code",
   "execution_count": 22,
   "id": "bb6503a6",
   "metadata": {},
   "outputs": [
    {
     "data": {
      "text/plain": [
       "12992220"
      ]
     },
     "execution_count": 22,
     "metadata": {},
     "output_type": "execute_result"
    }
   ],
   "source": [
    "data.speed_limit.sum()"
   ]
  },
  {
   "cell_type": "code",
   "execution_count": 23,
   "id": "6e3673fa",
   "metadata": {},
   "outputs": [
    {
     "data": {
      "text/plain": [
       "sign_type        1\n",
       "speed_limit      3\n",
       "timestamp      137\n",
       "Lon            181\n",
       "Lat            182\n",
       "dtype: int64"
      ]
     },
     "execution_count": 23,
     "metadata": {},
     "output_type": "execute_result"
    }
   ],
   "source": [
    "data[data.speed_limit>100].nunique()"
   ]
  },
  {
   "cell_type": "code",
   "execution_count": 24,
   "id": "0c13267d",
   "metadata": {},
   "outputs": [
    {
     "data": {
      "text/html": [
       "<div>\n",
       "<style scoped>\n",
       "    .dataframe tbody tr th:only-of-type {\n",
       "        vertical-align: middle;\n",
       "    }\n",
       "\n",
       "    .dataframe tbody tr th {\n",
       "        vertical-align: top;\n",
       "    }\n",
       "\n",
       "    .dataframe thead th {\n",
       "        text-align: right;\n",
       "    }\n",
       "</style>\n",
       "<table border=\"1\" class=\"dataframe\">\n",
       "  <thead>\n",
       "    <tr style=\"text-align: right;\">\n",
       "      <th></th>\n",
       "      <th>sign_type</th>\n",
       "      <th>speed_limit</th>\n",
       "      <th>timestamp</th>\n",
       "      <th>Lon</th>\n",
       "      <th>Lat</th>\n",
       "    </tr>\n",
       "  </thead>\n",
       "  <tbody>\n",
       "    <tr>\n",
       "      <th>0</th>\n",
       "      <td>Stop</td>\n",
       "      <td>0</td>\n",
       "      <td>2020-08-25 07:50:00</td>\n",
       "      <td>19.425918</td>\n",
       "      <td>51.806640</td>\n",
       "    </tr>\n",
       "    <tr>\n",
       "      <th>1</th>\n",
       "      <td>Stop</td>\n",
       "      <td>0</td>\n",
       "      <td>2020-08-27 21:55:00</td>\n",
       "      <td>19.589880</td>\n",
       "      <td>51.793748</td>\n",
       "    </tr>\n",
       "    <tr>\n",
       "      <th>2</th>\n",
       "      <td>Stop</td>\n",
       "      <td>0</td>\n",
       "      <td>2020-01-08 18:20:00</td>\n",
       "      <td>19.543983</td>\n",
       "      <td>51.711465</td>\n",
       "    </tr>\n",
       "    <tr>\n",
       "      <th>3</th>\n",
       "      <td>Stop</td>\n",
       "      <td>0</td>\n",
       "      <td>2020-12-08 07:50:00</td>\n",
       "      <td>19.480426</td>\n",
       "      <td>51.727488</td>\n",
       "    </tr>\n",
       "    <tr>\n",
       "      <th>4</th>\n",
       "      <td>Stop</td>\n",
       "      <td>0</td>\n",
       "      <td>2020-05-08 14:50:00</td>\n",
       "      <td>19.448819</td>\n",
       "      <td>51.758253</td>\n",
       "    </tr>\n",
       "    <tr>\n",
       "      <th>...</th>\n",
       "      <td>...</td>\n",
       "      <td>...</td>\n",
       "      <td>...</td>\n",
       "      <td>...</td>\n",
       "      <td>...</td>\n",
       "    </tr>\n",
       "    <tr>\n",
       "      <th>244509</th>\n",
       "      <td>Speed Limit</td>\n",
       "      <td>85</td>\n",
       "      <td>2020-08-22 13:55:00</td>\n",
       "      <td>19.445755</td>\n",
       "      <td>51.782282</td>\n",
       "    </tr>\n",
       "    <tr>\n",
       "      <th>244510</th>\n",
       "      <td>Speed Limit</td>\n",
       "      <td>85</td>\n",
       "      <td>2020-07-08 20:40:00</td>\n",
       "      <td>19.450990</td>\n",
       "      <td>51.789896</td>\n",
       "    </tr>\n",
       "    <tr>\n",
       "      <th>244511</th>\n",
       "      <td>Speed Limit</td>\n",
       "      <td>85</td>\n",
       "      <td>2020-08-30 19:35:00</td>\n",
       "      <td>19.447302</td>\n",
       "      <td>51.756703</td>\n",
       "    </tr>\n",
       "    <tr>\n",
       "      <th>244512</th>\n",
       "      <td>Speed Limit</td>\n",
       "      <td>85</td>\n",
       "      <td>2020-01-08 13:30:00</td>\n",
       "      <td>19.495367</td>\n",
       "      <td>51.805601</td>\n",
       "    </tr>\n",
       "    <tr>\n",
       "      <th>244513</th>\n",
       "      <td>Speed Limit</td>\n",
       "      <td>85</td>\n",
       "      <td>2020-04-08 18:35:00</td>\n",
       "      <td>19.494891</td>\n",
       "      <td>51.796440</td>\n",
       "    </tr>\n",
       "  </tbody>\n",
       "</table>\n",
       "<p>244514 rows × 5 columns</p>\n",
       "</div>"
      ],
      "text/plain": [
       "          sign_type  speed_limit           timestamp        Lon        Lat\n",
       "0              Stop            0 2020-08-25 07:50:00  19.425918  51.806640\n",
       "1              Stop            0 2020-08-27 21:55:00  19.589880  51.793748\n",
       "2              Stop            0 2020-01-08 18:20:00  19.543983  51.711465\n",
       "3              Stop            0 2020-12-08 07:50:00  19.480426  51.727488\n",
       "4              Stop            0 2020-05-08 14:50:00  19.448819  51.758253\n",
       "...             ...          ...                 ...        ...        ...\n",
       "244509  Speed Limit           85 2020-08-22 13:55:00  19.445755  51.782282\n",
       "244510  Speed Limit           85 2020-07-08 20:40:00  19.450990  51.789896\n",
       "244511  Speed Limit           85 2020-08-30 19:35:00  19.447302  51.756703\n",
       "244512  Speed Limit           85 2020-01-08 13:30:00  19.495367  51.805601\n",
       "244513  Speed Limit           85 2020-04-08 18:35:00  19.494891  51.796440\n",
       "\n",
       "[244514 rows x 5 columns]"
      ]
     },
     "execution_count": 24,
     "metadata": {},
     "output_type": "execute_result"
    }
   ],
   "source": [
    "data"
   ]
  },
  {
   "cell_type": "code",
   "execution_count": 25,
   "id": "2e0c5321",
   "metadata": {},
   "outputs": [
    {
     "data": {
      "text/html": [
       "<div>\n",
       "<style scoped>\n",
       "    .dataframe tbody tr th:only-of-type {\n",
       "        vertical-align: middle;\n",
       "    }\n",
       "\n",
       "    .dataframe tbody tr th {\n",
       "        vertical-align: top;\n",
       "    }\n",
       "\n",
       "    .dataframe thead th {\n",
       "        text-align: right;\n",
       "    }\n",
       "</style>\n",
       "<table border=\"1\" class=\"dataframe\">\n",
       "  <thead>\n",
       "    <tr style=\"text-align: right;\">\n",
       "      <th></th>\n",
       "      <th>sign_type</th>\n",
       "      <th>speed_limit</th>\n",
       "      <th>timestamp</th>\n",
       "      <th>Lon</th>\n",
       "      <th>Lat</th>\n",
       "    </tr>\n",
       "  </thead>\n",
       "  <tbody>\n",
       "    <tr>\n",
       "      <th>0</th>\n",
       "      <td>Stop</td>\n",
       "      <td>0</td>\n",
       "      <td>2020-08-25 07:50:00</td>\n",
       "      <td>19.425918</td>\n",
       "      <td>51.806640</td>\n",
       "    </tr>\n",
       "    <tr>\n",
       "      <th>1</th>\n",
       "      <td>Stop</td>\n",
       "      <td>0</td>\n",
       "      <td>2020-08-27 21:55:00</td>\n",
       "      <td>19.589880</td>\n",
       "      <td>51.793748</td>\n",
       "    </tr>\n",
       "    <tr>\n",
       "      <th>2</th>\n",
       "      <td>Stop</td>\n",
       "      <td>0</td>\n",
       "      <td>2020-01-08 18:20:00</td>\n",
       "      <td>19.543983</td>\n",
       "      <td>51.711465</td>\n",
       "    </tr>\n",
       "    <tr>\n",
       "      <th>3</th>\n",
       "      <td>Stop</td>\n",
       "      <td>0</td>\n",
       "      <td>2020-12-08 07:50:00</td>\n",
       "      <td>19.480426</td>\n",
       "      <td>51.727488</td>\n",
       "    </tr>\n",
       "    <tr>\n",
       "      <th>4</th>\n",
       "      <td>Stop</td>\n",
       "      <td>0</td>\n",
       "      <td>2020-05-08 14:50:00</td>\n",
       "      <td>19.448819</td>\n",
       "      <td>51.758253</td>\n",
       "    </tr>\n",
       "  </tbody>\n",
       "</table>\n",
       "</div>"
      ],
      "text/plain": [
       "  sign_type  speed_limit           timestamp        Lon        Lat\n",
       "0      Stop            0 2020-08-25 07:50:00  19.425918  51.806640\n",
       "1      Stop            0 2020-08-27 21:55:00  19.589880  51.793748\n",
       "2      Stop            0 2020-01-08 18:20:00  19.543983  51.711465\n",
       "3      Stop            0 2020-12-08 07:50:00  19.480426  51.727488\n",
       "4      Stop            0 2020-05-08 14:50:00  19.448819  51.758253"
      ]
     },
     "execution_count": 25,
     "metadata": {},
     "output_type": "execute_result"
    }
   ],
   "source": [
    "data.head()"
   ]
  },
  {
   "cell_type": "code",
   "execution_count": 26,
   "id": "a6e752f0",
   "metadata": {},
   "outputs": [
    {
     "data": {
      "text/plain": [
       "timestamp            sign_type             \n",
       "2020-01-08 00:00:00  Speed Limit               120.0\n",
       "                     Yield                       0.0\n",
       "2020-01-08 02:05:00  Speed Limit                55.0\n",
       "2020-01-08 02:10:00  Speed Limit                40.0\n",
       "                     Withdrawal Speed Limit      0.0\n",
       "                                               ...  \n",
       "2020-12-08 23:50:00  Speed Limit                64.0\n",
       "                     Withdrawal Speed Limit      0.0\n",
       "                     Yield                       0.0\n",
       "2020-12-08 23:55:00  Speed Limit                60.0\n",
       "                     Yield                       0.0\n",
       "Name: speed_limit, Length: 20688, dtype: float64"
      ]
     },
     "execution_count": 26,
     "metadata": {},
     "output_type": "execute_result"
    }
   ],
   "source": [
    "data.groupby(by=[\"timestamp\",\"sign_type\"]).speed_limit.mean()"
   ]
  },
  {
   "cell_type": "code",
   "execution_count": 27,
   "id": "2c67affa",
   "metadata": {},
   "outputs": [],
   "source": [
    "data[\"date\"]=data[\"timestamp\"].dt.date"
   ]
  },
  {
   "cell_type": "code",
   "execution_count": 28,
   "id": "64430f58",
   "metadata": {},
   "outputs": [
    {
     "data": {
      "text/plain": [
       "date        sign_type             \n",
       "2020-01-08  Speed Limit               113.329939\n",
       "            Stop                        0.000000\n",
       "            Withdrawal Speed Limit      0.000000\n",
       "            Yield                       0.000000\n",
       "2020-01-09  Speed Limit                62.083333\n",
       "                                         ...    \n",
       "2020-11-08  Yield                       0.000000\n",
       "2020-12-08  Speed Limit                57.939643\n",
       "            Stop                        0.000000\n",
       "            Withdrawal Speed Limit      0.000000\n",
       "            Yield                       0.000000\n",
       "Name: speed_limit, Length: 138, dtype: float64"
      ]
     },
     "execution_count": 28,
     "metadata": {},
     "output_type": "execute_result"
    }
   ],
   "source": [
    "data.groupby(by=[\"date\",\"sign_type\"]).speed_limit.mean() #Average daily number of observations for each sign type"
   ]
  },
  {
   "cell_type": "code",
   "execution_count": 31,
   "id": "0f056c0b",
   "metadata": {},
   "outputs": [],
   "source": [
    "data['year_month'] = data['timestamp'].dt.strftime('%Y-%m')# creating year month"
   ]
  },
  {
   "cell_type": "code",
   "execution_count": 32,
   "id": "4723f092",
   "metadata": {},
   "outputs": [
    {
     "data": {
      "text/plain": [
       "0         2020-08\n",
       "1         2020-08\n",
       "2         2020-01\n",
       "3         2020-12\n",
       "4         2020-05\n",
       "           ...   \n",
       "244509    2020-08\n",
       "244510    2020-07\n",
       "244511    2020-08\n",
       "244512    2020-01\n",
       "244513    2020-04\n",
       "Name: year_month, Length: 244514, dtype: object"
      ]
     },
     "execution_count": 32,
     "metadata": {},
     "output_type": "execute_result"
    }
   ],
   "source": [
    "data.year_month"
   ]
  },
  {
   "cell_type": "code",
   "execution_count": 33,
   "id": "2a19857a",
   "metadata": {},
   "outputs": [
    {
     "data": {
      "text/html": [
       "<div>\n",
       "<style scoped>\n",
       "    .dataframe tbody tr th:only-of-type {\n",
       "        vertical-align: middle;\n",
       "    }\n",
       "\n",
       "    .dataframe tbody tr th {\n",
       "        vertical-align: top;\n",
       "    }\n",
       "\n",
       "    .dataframe thead th {\n",
       "        text-align: right;\n",
       "    }\n",
       "</style>\n",
       "<table border=\"1\" class=\"dataframe\">\n",
       "  <thead>\n",
       "    <tr style=\"text-align: right;\">\n",
       "      <th></th>\n",
       "      <th></th>\n",
       "      <th>count</th>\n",
       "      <th>mean</th>\n",
       "      <th>std</th>\n",
       "      <th>min</th>\n",
       "      <th>25%</th>\n",
       "      <th>50%</th>\n",
       "      <th>75%</th>\n",
       "      <th>max</th>\n",
       "    </tr>\n",
       "    <tr>\n",
       "      <th>date</th>\n",
       "      <th>sign_type</th>\n",
       "      <th></th>\n",
       "      <th></th>\n",
       "      <th></th>\n",
       "      <th></th>\n",
       "      <th></th>\n",
       "      <th></th>\n",
       "      <th></th>\n",
       "      <th></th>\n",
       "    </tr>\n",
       "  </thead>\n",
       "  <tbody>\n",
       "    <tr>\n",
       "      <th rowspan=\"4\" valign=\"top\">2020-01-08</th>\n",
       "      <th>Speed Limit</th>\n",
       "      <td>40753.0</td>\n",
       "      <td>113.329939</td>\n",
       "      <td>19.832766</td>\n",
       "      <td>5.0</td>\n",
       "      <td>120.0</td>\n",
       "      <td>120.0</td>\n",
       "      <td>120.0</td>\n",
       "      <td>120.0</td>\n",
       "    </tr>\n",
       "    <tr>\n",
       "      <th>Stop</th>\n",
       "      <td>84.0</td>\n",
       "      <td>0.000000</td>\n",
       "      <td>0.000000</td>\n",
       "      <td>0.0</td>\n",
       "      <td>0.0</td>\n",
       "      <td>0.0</td>\n",
       "      <td>0.0</td>\n",
       "      <td>0.0</td>\n",
       "    </tr>\n",
       "    <tr>\n",
       "      <th>Withdrawal Speed Limit</th>\n",
       "      <td>124.0</td>\n",
       "      <td>0.000000</td>\n",
       "      <td>0.000000</td>\n",
       "      <td>0.0</td>\n",
       "      <td>0.0</td>\n",
       "      <td>0.0</td>\n",
       "      <td>0.0</td>\n",
       "      <td>0.0</td>\n",
       "    </tr>\n",
       "    <tr>\n",
       "      <th>Yield</th>\n",
       "      <td>1786.0</td>\n",
       "      <td>0.000000</td>\n",
       "      <td>0.000000</td>\n",
       "      <td>0.0</td>\n",
       "      <td>0.0</td>\n",
       "      <td>0.0</td>\n",
       "      <td>0.0</td>\n",
       "      <td>0.0</td>\n",
       "    </tr>\n",
       "    <tr>\n",
       "      <th>2020-01-09</th>\n",
       "      <th>Speed Limit</th>\n",
       "      <td>24.0</td>\n",
       "      <td>62.083333</td>\n",
       "      <td>11.412871</td>\n",
       "      <td>40.0</td>\n",
       "      <td>50.0</td>\n",
       "      <td>70.0</td>\n",
       "      <td>70.0</td>\n",
       "      <td>70.0</td>\n",
       "    </tr>\n",
       "    <tr>\n",
       "      <th>...</th>\n",
       "      <th>...</th>\n",
       "      <td>...</td>\n",
       "      <td>...</td>\n",
       "      <td>...</td>\n",
       "      <td>...</td>\n",
       "      <td>...</td>\n",
       "      <td>...</td>\n",
       "      <td>...</td>\n",
       "      <td>...</td>\n",
       "    </tr>\n",
       "    <tr>\n",
       "      <th>2020-11-08</th>\n",
       "      <th>Yield</th>\n",
       "      <td>1717.0</td>\n",
       "      <td>0.000000</td>\n",
       "      <td>0.000000</td>\n",
       "      <td>0.0</td>\n",
       "      <td>0.0</td>\n",
       "      <td>0.0</td>\n",
       "      <td>0.0</td>\n",
       "      <td>0.0</td>\n",
       "    </tr>\n",
       "    <tr>\n",
       "      <th rowspan=\"4\" valign=\"top\">2020-12-08</th>\n",
       "      <th>Withdrawal Speed Limit</th>\n",
       "      <td>132.0</td>\n",
       "      <td>0.000000</td>\n",
       "      <td>0.000000</td>\n",
       "      <td>0.0</td>\n",
       "      <td>0.0</td>\n",
       "      <td>0.0</td>\n",
       "      <td>0.0</td>\n",
       "      <td>0.0</td>\n",
       "    </tr>\n",
       "    <tr>\n",
       "      <th>Speed Limit</th>\n",
       "      <td>4987.0</td>\n",
       "      <td>57.939643</td>\n",
       "      <td>15.594933</td>\n",
       "      <td>0.0</td>\n",
       "      <td>40.0</td>\n",
       "      <td>60.0</td>\n",
       "      <td>70.0</td>\n",
       "      <td>130.0</td>\n",
       "    </tr>\n",
       "    <tr>\n",
       "      <th>Stop</th>\n",
       "      <td>78.0</td>\n",
       "      <td>0.000000</td>\n",
       "      <td>0.000000</td>\n",
       "      <td>0.0</td>\n",
       "      <td>0.0</td>\n",
       "      <td>0.0</td>\n",
       "      <td>0.0</td>\n",
       "      <td>0.0</td>\n",
       "    </tr>\n",
       "    <tr>\n",
       "      <th>Yield</th>\n",
       "      <td>1726.0</td>\n",
       "      <td>0.000000</td>\n",
       "      <td>0.000000</td>\n",
       "      <td>0.0</td>\n",
       "      <td>0.0</td>\n",
       "      <td>0.0</td>\n",
       "      <td>0.0</td>\n",
       "      <td>0.0</td>\n",
       "    </tr>\n",
       "  </tbody>\n",
       "</table>\n",
       "<p>138 rows × 8 columns</p>\n",
       "</div>"
      ],
      "text/plain": [
       "                                     count        mean        std   min  \\\n",
       "date       sign_type                                                      \n",
       "2020-01-08 Speed Limit             40753.0  113.329939  19.832766   5.0   \n",
       "           Stop                       84.0    0.000000   0.000000   0.0   \n",
       "           Withdrawal Speed Limit    124.0    0.000000   0.000000   0.0   \n",
       "           Yield                    1786.0    0.000000   0.000000   0.0   \n",
       "2020-01-09 Speed Limit                24.0   62.083333  11.412871  40.0   \n",
       "...                                    ...         ...        ...   ...   \n",
       "2020-11-08 Yield                    1717.0    0.000000   0.000000   0.0   \n",
       "2020-12-08 Withdrawal Speed Limit    132.0    0.000000   0.000000   0.0   \n",
       "           Speed Limit              4987.0   57.939643  15.594933   0.0   \n",
       "           Stop                       78.0    0.000000   0.000000   0.0   \n",
       "           Yield                    1726.0    0.000000   0.000000   0.0   \n",
       "\n",
       "                                     25%    50%    75%    max  \n",
       "date       sign_type                                           \n",
       "2020-01-08 Speed Limit             120.0  120.0  120.0  120.0  \n",
       "           Stop                      0.0    0.0    0.0    0.0  \n",
       "           Withdrawal Speed Limit    0.0    0.0    0.0    0.0  \n",
       "           Yield                     0.0    0.0    0.0    0.0  \n",
       "2020-01-09 Speed Limit              50.0   70.0   70.0   70.0  \n",
       "...                                  ...    ...    ...    ...  \n",
       "2020-11-08 Yield                     0.0    0.0    0.0    0.0  \n",
       "2020-12-08 Withdrawal Speed Limit    0.0    0.0    0.0    0.0  \n",
       "           Speed Limit              40.0   60.0   70.0  130.0  \n",
       "           Stop                      0.0    0.0    0.0    0.0  \n",
       "           Yield                     0.0    0.0    0.0    0.0  \n",
       "\n",
       "[138 rows x 8 columns]"
      ]
     },
     "execution_count": 33,
     "metadata": {},
     "output_type": "execute_result"
    }
   ],
   "source": [
    "data.groupby(by=[\"date\",\"sign_type\"]).speed_limit.describe().sort_values(by=\"date\") #changes of observations amount during day"
   ]
  },
  {
   "cell_type": "code",
   "execution_count": 34,
   "id": "180ac162",
   "metadata": {},
   "outputs": [
    {
     "data": {
      "text/plain": [
       "year_month  sign_type             \n",
       "2020-01     Speed Limit               113.299777\n",
       "            Stop                        0.000000\n",
       "            Withdrawal Speed Limit      0.000000\n",
       "            Yield                       0.000000\n",
       "2020-02     No Entry                    0.000000\n",
       "            Speed Limit                57.974070\n",
       "            Stop                        0.000000\n",
       "            Withdrawal Speed Limit      0.000000\n",
       "            Yield                       0.000000\n",
       "2020-03     Speed Limit                58.138635\n",
       "            Stop                        0.000000\n",
       "            Withdrawal Speed Limit      0.000000\n",
       "            Yield                       0.000000\n",
       "2020-04     Speed Limit                58.246979\n",
       "            Stop                        0.000000\n",
       "            Withdrawal Speed Limit      0.000000\n",
       "            Yield                       0.000000\n",
       "2020-05     Speed Limit                58.587593\n",
       "            Stop                        0.000000\n",
       "            Withdrawal Speed Limit      0.000000\n",
       "            Yield                       0.000000\n",
       "2020-06     Speed Limit                58.242248\n",
       "            Stop                        0.000000\n",
       "            Withdrawal Speed Limit      0.000000\n",
       "            Yield                       0.000000\n",
       "2020-07     No Entry                    0.000000\n",
       "            Speed Limit                57.853134\n",
       "            Stop                        0.000000\n",
       "            Withdrawal Speed Limit      0.000000\n",
       "            Yield                       0.000000\n",
       "2020-08     No Entry                    0.000000\n",
       "            Speed Limit                58.210131\n",
       "            Stop                        0.000000\n",
       "            Withdrawal Speed Limit      0.000000\n",
       "            Yield                       0.000000\n",
       "2020-09     Speed Limit                58.216627\n",
       "            Stop                        0.000000\n",
       "            Withdrawal Speed Limit      0.000000\n",
       "            Yield                       0.000000\n",
       "2020-10     Speed Limit                58.205415\n",
       "            Stop                        0.000000\n",
       "            Withdrawal Speed Limit      0.000000\n",
       "            Yield                       0.000000\n",
       "2020-11     No Entry                    0.000000\n",
       "            Speed Limit                58.598083\n",
       "            Stop                        0.000000\n",
       "            Withdrawal Speed Limit      0.000000\n",
       "            Yield                       0.000000\n",
       "2020-12     Speed Limit                57.939643\n",
       "            Stop                        0.000000\n",
       "            Withdrawal Speed Limit      0.000000\n",
       "            Yield                       0.000000\n",
       "Name: speed_limit, dtype: float64"
      ]
     },
     "execution_count": 34,
     "metadata": {},
     "output_type": "execute_result"
    }
   ],
   "source": [
    "data.groupby(by=[\"year_month\",\"sign_type\"]).speed_limit.mean() #changes of observations amount during month"
   ]
  },
  {
   "cell_type": "code",
   "execution_count": 35,
   "id": "a8ddb0cc",
   "metadata": {},
   "outputs": [],
   "source": [
    "data_speedlimit=data[data[\"sign_type\"]==\"Speed Limit\"]"
   ]
  },
  {
   "cell_type": "code",
   "execution_count": 36,
   "id": "981d9123",
   "metadata": {},
   "outputs": [
    {
     "data": {
      "text/html": [
       "<div>\n",
       "<style scoped>\n",
       "    .dataframe tbody tr th:only-of-type {\n",
       "        vertical-align: middle;\n",
       "    }\n",
       "\n",
       "    .dataframe tbody tr th {\n",
       "        vertical-align: top;\n",
       "    }\n",
       "\n",
       "    .dataframe thead th {\n",
       "        text-align: right;\n",
       "    }\n",
       "</style>\n",
       "<table border=\"1\" class=\"dataframe\">\n",
       "  <thead>\n",
       "    <tr style=\"text-align: right;\">\n",
       "      <th></th>\n",
       "      <th>sign_type</th>\n",
       "      <th>speed_limit</th>\n",
       "      <th>timestamp</th>\n",
       "      <th>Lon</th>\n",
       "      <th>Lat</th>\n",
       "      <th>date</th>\n",
       "      <th>year_month</th>\n",
       "    </tr>\n",
       "  </thead>\n",
       "  <tbody>\n",
       "    <tr>\n",
       "      <th>54</th>\n",
       "      <td>Speed Limit</td>\n",
       "      <td>30</td>\n",
       "      <td>2020-12-08 07:35:00</td>\n",
       "      <td>19.454612</td>\n",
       "      <td>51.758944</td>\n",
       "      <td>2020-12-08</td>\n",
       "      <td>2020-12</td>\n",
       "    </tr>\n",
       "    <tr>\n",
       "      <th>57</th>\n",
       "      <td>Speed Limit</td>\n",
       "      <td>60</td>\n",
       "      <td>2020-07-08 10:20:00</td>\n",
       "      <td>19.458092</td>\n",
       "      <td>51.802667</td>\n",
       "      <td>2020-07-08</td>\n",
       "      <td>2020-07</td>\n",
       "    </tr>\n",
       "    <tr>\n",
       "      <th>58</th>\n",
       "      <td>Speed Limit</td>\n",
       "      <td>70</td>\n",
       "      <td>2020-08-28 16:50:00</td>\n",
       "      <td>19.583121</td>\n",
       "      <td>51.753032</td>\n",
       "      <td>2020-08-28</td>\n",
       "      <td>2020-08</td>\n",
       "    </tr>\n",
       "    <tr>\n",
       "      <th>59</th>\n",
       "      <td>Speed Limit</td>\n",
       "      <td>20</td>\n",
       "      <td>2020-06-08 19:25:00</td>\n",
       "      <td>19.574818</td>\n",
       "      <td>51.715046</td>\n",
       "      <td>2020-06-08</td>\n",
       "      <td>2020-06</td>\n",
       "    </tr>\n",
       "    <tr>\n",
       "      <th>60</th>\n",
       "      <td>Speed Limit</td>\n",
       "      <td>50</td>\n",
       "      <td>2020-08-24 16:55:00</td>\n",
       "      <td>19.435819</td>\n",
       "      <td>51.754248</td>\n",
       "      <td>2020-08-24</td>\n",
       "      <td>2020-08</td>\n",
       "    </tr>\n",
       "    <tr>\n",
       "      <th>...</th>\n",
       "      <td>...</td>\n",
       "      <td>...</td>\n",
       "      <td>...</td>\n",
       "      <td>...</td>\n",
       "      <td>...</td>\n",
       "      <td>...</td>\n",
       "      <td>...</td>\n",
       "    </tr>\n",
       "    <tr>\n",
       "      <th>244509</th>\n",
       "      <td>Speed Limit</td>\n",
       "      <td>85</td>\n",
       "      <td>2020-08-22 13:55:00</td>\n",
       "      <td>19.445755</td>\n",
       "      <td>51.782282</td>\n",
       "      <td>2020-08-22</td>\n",
       "      <td>2020-08</td>\n",
       "    </tr>\n",
       "    <tr>\n",
       "      <th>244510</th>\n",
       "      <td>Speed Limit</td>\n",
       "      <td>85</td>\n",
       "      <td>2020-07-08 20:40:00</td>\n",
       "      <td>19.450990</td>\n",
       "      <td>51.789896</td>\n",
       "      <td>2020-07-08</td>\n",
       "      <td>2020-07</td>\n",
       "    </tr>\n",
       "    <tr>\n",
       "      <th>244511</th>\n",
       "      <td>Speed Limit</td>\n",
       "      <td>85</td>\n",
       "      <td>2020-08-30 19:35:00</td>\n",
       "      <td>19.447302</td>\n",
       "      <td>51.756703</td>\n",
       "      <td>2020-08-30</td>\n",
       "      <td>2020-08</td>\n",
       "    </tr>\n",
       "    <tr>\n",
       "      <th>244512</th>\n",
       "      <td>Speed Limit</td>\n",
       "      <td>85</td>\n",
       "      <td>2020-01-08 13:30:00</td>\n",
       "      <td>19.495367</td>\n",
       "      <td>51.805601</td>\n",
       "      <td>2020-01-08</td>\n",
       "      <td>2020-01</td>\n",
       "    </tr>\n",
       "    <tr>\n",
       "      <th>244513</th>\n",
       "      <td>Speed Limit</td>\n",
       "      <td>85</td>\n",
       "      <td>2020-04-08 18:35:00</td>\n",
       "      <td>19.494891</td>\n",
       "      <td>51.796440</td>\n",
       "      <td>2020-04-08</td>\n",
       "      <td>2020-04</td>\n",
       "    </tr>\n",
       "  </tbody>\n",
       "</table>\n",
       "<p>184611 rows × 7 columns</p>\n",
       "</div>"
      ],
      "text/plain": [
       "          sign_type  speed_limit           timestamp        Lon        Lat  \\\n",
       "54      Speed Limit           30 2020-12-08 07:35:00  19.454612  51.758944   \n",
       "57      Speed Limit           60 2020-07-08 10:20:00  19.458092  51.802667   \n",
       "58      Speed Limit           70 2020-08-28 16:50:00  19.583121  51.753032   \n",
       "59      Speed Limit           20 2020-06-08 19:25:00  19.574818  51.715046   \n",
       "60      Speed Limit           50 2020-08-24 16:55:00  19.435819  51.754248   \n",
       "...             ...          ...                 ...        ...        ...   \n",
       "244509  Speed Limit           85 2020-08-22 13:55:00  19.445755  51.782282   \n",
       "244510  Speed Limit           85 2020-07-08 20:40:00  19.450990  51.789896   \n",
       "244511  Speed Limit           85 2020-08-30 19:35:00  19.447302  51.756703   \n",
       "244512  Speed Limit           85 2020-01-08 13:30:00  19.495367  51.805601   \n",
       "244513  Speed Limit           85 2020-04-08 18:35:00  19.494891  51.796440   \n",
       "\n",
       "              date year_month  \n",
       "54      2020-12-08    2020-12  \n",
       "57      2020-07-08    2020-07  \n",
       "58      2020-08-28    2020-08  \n",
       "59      2020-06-08    2020-06  \n",
       "60      2020-08-24    2020-08  \n",
       "...            ...        ...  \n",
       "244509  2020-08-22    2020-08  \n",
       "244510  2020-07-08    2020-07  \n",
       "244511  2020-08-30    2020-08  \n",
       "244512  2020-01-08    2020-01  \n",
       "244513  2020-04-08    2020-04  \n",
       "\n",
       "[184611 rows x 7 columns]"
      ]
     },
     "execution_count": 36,
     "metadata": {},
     "output_type": "execute_result"
    }
   ],
   "source": [
    "data_speedlimit"
   ]
  },
  {
   "cell_type": "code",
   "execution_count": 37,
   "id": "c35d32e5",
   "metadata": {},
   "outputs": [],
   "source": [
    "import pandas as pd\n",
    "import matplotlib.pyplot as plt \n",
    "%matplotlib inline"
   ]
  },
  {
   "cell_type": "code",
   "execution_count": 38,
   "id": "813528a3",
   "metadata": {},
   "outputs": [],
   "source": [
    "url=\"data_sample copy.csv\" \n",
    "data=pd.read_csv(url)"
   ]
  },
  {
   "cell_type": "code",
   "execution_count": 39,
   "id": "8e20140a",
   "metadata": {},
   "outputs": [
    {
     "data": {
      "text/html": [
       "<div>\n",
       "<style scoped>\n",
       "    .dataframe tbody tr th:only-of-type {\n",
       "        vertical-align: middle;\n",
       "    }\n",
       "\n",
       "    .dataframe tbody tr th {\n",
       "        vertical-align: top;\n",
       "    }\n",
       "\n",
       "    .dataframe thead th {\n",
       "        text-align: right;\n",
       "    }\n",
       "</style>\n",
       "<table border=\"1\" class=\"dataframe\">\n",
       "  <thead>\n",
       "    <tr style=\"text-align: right;\">\n",
       "      <th></th>\n",
       "      <th>sign_type</th>\n",
       "      <th>speed_limi</th>\n",
       "      <th>timestamp</th>\n",
       "      <th>Lon</th>\n",
       "      <th>Lat</th>\n",
       "    </tr>\n",
       "  </thead>\n",
       "  <tbody>\n",
       "    <tr>\n",
       "      <th>0</th>\n",
       "      <td>Stop</td>\n",
       "      <td>0</td>\n",
       "      <td>25.08.2020 07:50</td>\n",
       "      <td>19.425918</td>\n",
       "      <td>51.806640</td>\n",
       "    </tr>\n",
       "    <tr>\n",
       "      <th>1</th>\n",
       "      <td>Stop</td>\n",
       "      <td>0</td>\n",
       "      <td>27.08.2020 21:55</td>\n",
       "      <td>19.589880</td>\n",
       "      <td>51.793748</td>\n",
       "    </tr>\n",
       "    <tr>\n",
       "      <th>2</th>\n",
       "      <td>Stop</td>\n",
       "      <td>0</td>\n",
       "      <td>01.08.2020 18:20</td>\n",
       "      <td>19.543983</td>\n",
       "      <td>51.711465</td>\n",
       "    </tr>\n",
       "    <tr>\n",
       "      <th>3</th>\n",
       "      <td>Stop</td>\n",
       "      <td>0</td>\n",
       "      <td>12.08.2020 07:50</td>\n",
       "      <td>19.480426</td>\n",
       "      <td>51.727488</td>\n",
       "    </tr>\n",
       "    <tr>\n",
       "      <th>4</th>\n",
       "      <td>Stop</td>\n",
       "      <td>0</td>\n",
       "      <td>05.08.2020 14:50</td>\n",
       "      <td>19.448819</td>\n",
       "      <td>51.758253</td>\n",
       "    </tr>\n",
       "  </tbody>\n",
       "</table>\n",
       "</div>"
      ],
      "text/plain": [
       "  sign_type  speed_limi         timestamp        Lon        Lat\n",
       "0      Stop           0  25.08.2020 07:50  19.425918  51.806640\n",
       "1      Stop           0  27.08.2020 21:55  19.589880  51.793748\n",
       "2      Stop           0  01.08.2020 18:20  19.543983  51.711465\n",
       "3      Stop           0  12.08.2020 07:50  19.480426  51.727488\n",
       "4      Stop           0  05.08.2020 14:50  19.448819  51.758253"
      ]
     },
     "execution_count": 39,
     "metadata": {},
     "output_type": "execute_result"
    }
   ],
   "source": [
    "data.head()"
   ]
  },
  {
   "cell_type": "code",
   "execution_count": 40,
   "id": "b5675e50",
   "metadata": {
    "scrolled": true
   },
   "outputs": [
    {
     "data": {
      "text/plain": [
       "<AxesSubplot:xlabel='sign_type'>"
      ]
     },
     "execution_count": 40,
     "metadata": {},
     "output_type": "execute_result"
    },
    {
     "data": {
      "image/png": "[encoded data removed]",
      "text/plain": [
       "<Figure size 640x480 with 1 Axes>"
      ]
     },
     "metadata": {},
     "output_type": "display_data"
    }
   ],
   "source": [
    "data.plot.area(x='sign_type')\n"
   ]
  },
  {
   "cell_type": "code",
   "execution_count": 45,
   "id": "7215be46",
   "metadata": {},
   "outputs": [],
   "source": [
    "data['timestamp'] = pd.to_datetime(data['timestamp'])\n"
   ]
  },
  {
   "cell_type": "code",
   "execution_count": 47,
   "id": "e5b1ccc8",
   "metadata": {},
   "outputs": [
    {
     "data": {
      "text/plain": [
       "<AxesSubplot:>"
      ]
     },
     "execution_count": 47,
     "metadata": {},
     "output_type": "execute_result"
    },
    {
     "data": {
      "image/png": "[encoded data removed]",
      "text/plain": [
       "<Figure size 640x480 with 1 Axes>"
      ]
     },
     "metadata": {},
     "output_type": "display_data"
    }
   ],
   "source": [
    "data.timestamp.plot()"
   ]
  },
  {
   "cell_type": "code",
   "execution_count": null,
   "id": "9785fc0d",
   "metadata": {},
   "outputs": [],
   "source": []
  }
 ],
 "metadata": {
  "kernelspec": {
   "display_name": "Python 3 (ipykernel)",
   "language": "python",
   "name": "python3"
  },
  "language_info": {
   "codemirror_mode": {
    "name": "ipython",
    "version": 3
   },
   "file_extension": ".py",
   "mimetype": "text/x-python",
   "name": "python",
   "nbconvert_exporter": "python",
   "pygments_lexer": "ipython3",
   "version": "3.9.13"
  }
 },
 "nbformat": 4,
 "nbformat_minor": 5
}
